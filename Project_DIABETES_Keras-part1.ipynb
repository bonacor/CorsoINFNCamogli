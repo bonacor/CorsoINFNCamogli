{
 "cells": [
  {
   "cell_type": "markdown",
   "metadata": {},
   "source": [
    "# <font color='red'>Project DIABETES - with Keras (part 1)</font>"
   ]
  },
  {
   "cell_type": "markdown",
   "metadata": {},
   "source": [
    "In this project tutorial you will discover **how to use Keras to develop and evaluate a NN model for a single-class classification problem**. \n",
    "\n",
    "Goals:\n",
    "\n",
    "* How to load a CSV dataset ready for use with Keras\n",
    "* How to define and compile a multilayer perceptron model for a single-class classification problem in Keras\n",
    "* How to evaluate a Keras NN model on a validation dataset (NOTE: *using Keras only*)"
   ]
  },
  {
   "cell_type": "markdown",
   "metadata": {},
   "source": [
    "# A premise: the steps"
   ]
  },
  {
   "cell_type": "markdown",
   "metadata": {},
   "source": [
    "In this exercise, there is not a lot of code required, so we are going to step over it slowly so that you will know how to create your own models in the future. The steps we are going to cover here are as follows:\n",
    "\n",
    "1. Load Data\n",
    "2. Define Model\n",
    "3. Compile Model\n",
    "4. Fit Model\n",
    "5. Evaluate Model\n",
    "6. Tie It All Together\n"
   ]
  },
  {
   "cell_type": "markdown",
   "metadata": {},
   "source": [
    "# Description of the input data"
   ]
  },
  {
   "cell_type": "markdown",
   "metadata": {},
   "source": [
    "The Pima Indians Onset of Diabetes dataset is a standard ML dataset, widely used worldwide as benchmark.\n",
    "\n",
    "\n",
    "### Dataset availability:\n",
    "\n",
    "Out of colab, if you want you can download it directly from a repository of mine, at this URL:\n",
    "   * [here](https://drive.google.com/open?id=12pjLYLeuZ__4SVPuz6zL9QQpPiwbVYDKz_rsn4eeHzI)\n",
    "   \n",
    "More info:\n",
    "   * [Genetic Studies of the Etiology of Type 2 Diabetes in Pima Indians](http://diabetes.diabetesjournals.org/content/53/5/1181)\n",
    "\n",
    "\n",
    "### Dataset description:\n",
    "\n",
    "\n",
    "* It describes patient medical record data for Pima Indians and whether they had an onset of diabetes within five years\n",
    "* It is a single-class, binary classification problem (onset of diabetes as 1 or not as 0)\n",
    "* Given that all attributes are numerical makes it easy to use directly with NNs that expect numerical inputs and numerical output values, so this is ideal for a first NN implementation in Keras (but be careful about needed data manipulations..).\n",
    "* The input variables that describe each patient are numerical and have varying scales. Each entry has values for 8 different attributes, defined as follows:\n",
    "   1. <font color='blue'>Number of times pregnant</font>\n",
    "   2. <font color='blue'>Plasma glucose concentration a 2 hours in an oral glucose tolerance test</font>\n",
    "   3. <font color='blue'>Diastolic blood pressure (mm Hg)</font>\n",
    "   4. <font color='blue'>Triceps skin fold thickness (mm)</font>\n",
    "   5. <font color='blue'>2-Hour serum insulin (mu U/ml)</font>\n",
    "   6. <font color='blue'>Body mass index (BMI)</font>\n",
    "   7. <font color='blue'>Diabetes pedigree function</font>\n",
    "   8. <font color='blue'>Age (years)</font>\n",
    "* The output variable is binary:    \n",
    "   * <font color='blue'>the \"class\", onset of diabetes within five years, yes or no, 1 or 0</font>\n",
    "\n",
    "### How the dataset looks like:\n",
    "\n",
    "    6,148,72,35,0,33.6,0.627,50,1\n",
    "    1,85,66,29,0,26.6,0.351,31,0\n",
    "    8,183,64,0,0,23.3,0.672,32,1\n",
    "    1,89,66,23,94,28.1,0.167,21,0\n",
    "    0,137,40,35,168,43.1,2.288,33,1\n",
    "    (...)\n",
    "\n",
    "\n",
    "### Additional input from best practitioners:\n",
    "\n",
    "The baseline accuracy if all predictions are made as no onset of diabetes is 65.1%. Top results on the dataset are in the range of 77.7% accuracy (note: using 10-fold cross-validation). Use this as target to aim for when developing your model(s)."
   ]
  },
  {
   "cell_type": "markdown",
   "metadata": {},
   "source": [
    "# Start-up"
   ]
  },
  {
   "cell_type": "markdown",
   "metadata": {},
   "source": [
    "## CHECK Import Classes and Functions\n",
    "\n",
    "Start by importing all classes and functions you will need:\n",
    "* all the functionality we require from **Keras**\n",
    "* data loading functionalities from **numpy**"
   ]
  },
  {
   "cell_type": "code",
   "execution_count": null,
   "metadata": {},
   "outputs": [],
   "source": [
    "import numpy\n",
    "# pandas\n",
    "# --- not used on this example\n",
    "# keras\n",
    "from keras.models import Sequential\n",
    "from keras.layers import Dense\n",
    "#from keras.wrappers.scikit_learn import KerasClassifier\n",
    "#from keras.utils import np_utils\n",
    "# sklearn\n",
    "#from sklearn.model_selection import cross_val_score\n",
    "#from sklearn.model_selection import KFold\n",
    "#from sklearn.preprocessing import LabelEncoder\n",
    "#from sklearn.pipeline import Pipeline"
   ]
  },
  {
   "cell_type": "markdown",
   "metadata": {},
   "source": [
    "## Initialize random nb generator\n",
    "\n",
    "Important to ensure that the results we achieve from this model are repeatable, i.e. it ensures that the stochastic process of training a NN model can be reproduced."
   ]
  },
  {
   "cell_type": "code",
   "execution_count": null,
   "metadata": {},
   "outputs": [],
   "source": [
    "# fix random seed for reproducibility\n",
    "seed = 7\n",
    "numpy.random.seed(seed)"
   ]
  },
  {
   "cell_type": "markdown",
   "metadata": {},
   "source": [
    "## Load The Dataset\n",
    "\n",
    "Download the dataset from the link above and place it in your current working directory, with filename\n",
    "\n",
    "    pima-indians-diabetes.data.csv\n",
    "\n",
    "Then, you can quickly inspect it from this same ipynb."
   ]
  },
  {
   "cell_type": "code",
   "execution_count": null,
   "metadata": {},
   "outputs": [],
   "source": [
    "!ls -trl pima-indians-diabetes.data.csv"
   ]
  },
  {
   "cell_type": "code",
   "execution_count": null,
   "metadata": {},
   "outputs": [],
   "source": [
    "!head -5 pima-indians-diabetes.data.csv"
   ]
  },
  {
   "cell_type": "markdown",
   "metadata": {},
   "source": [
    "Now, load the dataset. Easiest in this case is to load the file directly using the **numpy** function *loadtxt()*. There are 8 input attributes and 1 output (last column). While you do so, split the attributes into input variables (the matrix of **X - features**) and output variables (the array **Y - label**)."
   ]
  },
  {
   "cell_type": "code",
   "execution_count": null,
   "metadata": {},
   "outputs": [],
   "source": [
    "# load DIABETES dataset\n",
    "dataset = numpy.loadtxt(\"pima-indians-diabetes.data.csv\", delimiter=\",\")\n",
    "X = dataset[:,0:8]   # columns from 1st to 8th into X\n",
    "Y = dataset[:,8]     # column 9th into Y"
   ]
  },
  {
   "cell_type": "markdown",
   "metadata": {},
   "source": [
    "Verify what you did."
   ]
  },
  {
   "cell_type": "code",
   "execution_count": null,
   "metadata": {
    "scrolled": true
   },
   "outputs": [],
   "source": [
    "len(X)"
   ]
  },
  {
   "cell_type": "code",
   "execution_count": null,
   "metadata": {},
   "outputs": [],
   "source": [
    "len(Y)"
   ]
  },
  {
   "cell_type": "code",
   "execution_count": null,
   "metadata": {},
   "outputs": [],
   "source": [
    "X"
   ]
  },
  {
   "cell_type": "code",
   "execution_count": null,
   "metadata": {},
   "outputs": [],
   "source": [
    "Y"
   ]
  },
  {
   "cell_type": "markdown",
   "metadata": {},
   "source": [
    "# Define the model in Keras"
   ]
  },
  {
   "cell_type": "markdown",
   "metadata": {},
   "source": [
    "Recap of key concepts and consequent implementation steps in this example:\n",
    "   * Models in Keras are defined as a **sequence of layers**\n",
    "   * We create a **Sequential** model and **add layers** one at a time until we are happy with the NN topology.\n",
    "   * The first thing to get right is to ensure the **input layer** has the right number of inputs.\n",
    "      * here we have 8 features, so pass 8 as nb dimensions in the input layer\n",
    "   * How many **hidden layers**? Which type?\n",
    "      * This is admittedly a very hard question. There are heuristics that we can use and often the best network structure is found through a process of trial and error experimentation. Generally, you need a network large enough to capture the structure (a.k.a. complexity) of the problem if that helps at all.\n",
    "      * In this example: we will use a Fully-Connected NN structure with 1 hidden layer only\n",
    "   * Implementation: FC layers are defined using the Keras **Dense** class. We can:\n",
    "      * use it for as many hidden layer as we want (here: 3, i.e. 1 input, 2 hidden, 1 output - read below)\n",
    "      * for each, specify the number of neurons, using the first argument\n",
    "      * specify the activation function, using the activation argument (here: rectifier (**relu**) activation function on the first two layers and the **sigmoid** activation function in the output layer. \n",
    "         * *NOTE: It used to be the case that sigmoid and tanh activation functions were preferred for all layers. These days, better performance is seen using the rectifier activation function. We use a sigmoid activation function on the output layer to ensure our network output is between 0 and 1 and easy to map to either a probability of class 1 or snap to a hard classification of either class with a default threshold of 0.5*.\n",
    "         \n",
    "We can piece it all together by defining layers and adding them. We build a NN with:\n",
    "   * a first hidden layer with 12 neurons that expects 8 input variables (e.g. input dim=8)\n",
    "   * a second hidden layer with 8 neurons\n",
    "   * the output layer with 1 neuron to predict the class (onset of diabetes or not)"
   ]
  },
  {
   "cell_type": "code",
   "execution_count": null,
   "metadata": {},
   "outputs": [],
   "source": [
    "# define model\n",
    "model = Sequential()\n",
    "model.add(Dense(12, input_dim=8, activation='relu'))\n",
    "model.add(Dense(8, activation='relu'))\n",
    "model.add(Dense(1, activation='sigmoid'))"
   ]
  },
  {
   "cell_type": "markdown",
   "metadata": {},
   "source": [
    "Check:"
   ]
  },
  {
   "cell_type": "code",
   "execution_count": null,
   "metadata": {
    "scrolled": true
   },
   "outputs": [],
   "source": [
    "model"
   ]
  },
  {
   "cell_type": "markdown",
   "metadata": {},
   "source": [
    "The figure below provides a (manually done) depiction of the netw\\ork structure defined above."
   ]
  },
  {
   "cell_type": "markdown",
   "metadata": {},
   "source": [
    "<img src=\"NNstructure.png\" style=\"width:200px\"/>"
   ]
  },
  {
   "cell_type": "markdown",
   "metadata": {},
   "source": [
    "The model is defined. "
   ]
  },
  {
   "cell_type": "markdown",
   "metadata": {},
   "source": [
    "# Compile the model in Keras"
   ]
  },
  {
   "cell_type": "markdown",
   "metadata": {},
   "source": [
    "Now that the model is defined, we need to actually create it, \"compiling\" it to be ready for efficient computation. \n",
    "\n",
    "By \"compiling\" the model we refer to the actual fact that this is done by using efficient numerical libraries under the covers (the so-called \"backend\" resources) such as those provided by Theano or **TensorFlow** (in our case, the latter). In the \"compilation phase\", the backend automatically chooses the best way to represent the network for training and making predictions running on your hardware. The outcome of this step will be a model we can finally train on our dataset.\n",
    "\n",
    "NOTE to avoid confusion: this is *not* the training phase (yet - that is next one). \n",
    "\n",
    "When compiling, we must specify some additional properties required when training the network. We must specify:\n",
    "   * the **loss function** to use to evaluate the best set of weights\n",
    "   * the **optimizer** used to search through different weights for the network\n",
    "   * any **metrics** we would like to collect and report during training\n",
    "\n",
    "In this case we will use:\n",
    "   * loss function -> logarithmic loss (which for a binary classification problem is defined in Keras as binary crossentropy)\n",
    "   * optimizer -> the efficient adam gradient descent algorithm (and efficient default)\n",
    "      * More in this paper: [Adam: A Method for Stochastic\n",
    "Optimization](http://arxiv.org/abs/1412.6980)\n",
    "   * choice of metric -> accuracy (because it is a classification problem, we will collect and report the classification accuracy as the metric)\n",
    "   \n",
    "NOTE: This is where you state that the work may happens on your CPU only, or on GPUs too."
   ]
  },
  {
   "cell_type": "code",
   "execution_count": null,
   "metadata": {},
   "outputs": [],
   "source": [
    "# compile model\n",
    "model.compile(loss='binary_crossentropy', optimizer='adam', metrics=['accuracy'])"
   ]
  },
  {
   "cell_type": "markdown",
   "metadata": {},
   "source": [
    "The model is compiled."
   ]
  },
  {
   "cell_type": "markdown",
   "metadata": {},
   "source": [
    "# Fit the model in Keras"
   ]
  },
  {
   "cell_type": "markdown",
   "metadata": {},
   "source": [
    "Now that the model is defined, and compiled, we are ready to execute first the model on some data, i.e. to **fit the model** a.k.a. to perform the **training** phase on our dataset, i.e. finding the best set of weights to ultimately be able to use such model to make predictions for my problem. \n",
    "\n",
    "Concretely, now we train (fit) our model on our loaded dataset, by calling the *fit()* function on the compiled model, after providing few arguments: \n",
    "   * **nb epochs**, i.e. the training process will run for a fixed number of iterations through the dataset (set by using the *epochs* argument)\n",
    "   * **batch size**, i.e. the nb instances to be evaluated before a weight update in the network is performed (set by using the *batch size* argument).\n",
    "   \n",
    "In this case, we will run:\n",
    "   * for a small number of epochs (150)\n",
    "   * using a relatively small batch size (10)\n",
    "   \n",
    "NOTE: again, these can be chosen experimentally by trial and error.\n",
    "\n",
    "NOTE: This is the time-consuming part, where your work actually happens on your 1/more CPUs, 1/more GPUs.."
   ]
  },
  {
   "cell_type": "code",
   "execution_count": null,
   "metadata": {},
   "outputs": [],
   "source": [
    "# fit the model\n",
    "model.fit(X, Y, epochs=150, batch_size=10)"
   ]
  },
  {
   "cell_type": "markdown",
   "metadata": {},
   "source": [
    "Running the cell above, you should see a message for each of the epochs, printing the loss (roughly going down) and accuracy (roughly going up) for each epoch. It takes about 15 seconds to execute on my workstation running on a Macbook Air CPU with a Tensorflow backend."
   ]
  },
  {
   "cell_type": "markdown",
   "metadata": {},
   "source": [
    "# Evaluate the model in Keras"
   ]
  },
  {
   "cell_type": "markdown",
   "metadata": {},
   "source": [
    "Now the model has been defined, compiled and trained (**well - see comments in the next section, though!**)\n",
    "\n",
    "In this oversimplified example, we can evaluate our model on our training dataset using the *evaluation()* function and pass it the same input and output used to train the model. This will generate a prediction for each input and output pair and collect scores, including the average loss and any metrics we have configured, such as accuracy."
   ]
  },
  {
   "cell_type": "code",
   "execution_count": null,
   "metadata": {
    "scrolled": true
   },
   "outputs": [],
   "source": [
    "# evaluate the model\n",
    "scores = model.evaluate(X, Y)\n",
    "print(\"\\n%s: %.2f%%\" % (model.metrics_names[1], scores[1]*100))"
   ]
  },
  {
   "cell_type": "markdown",
   "metadata": {},
   "source": [
    "Running the cell above, you should the final evaluation of the trained model on the training dataset. It takes about 2 seconds to execute on my workstation running on a Macbook Air CPU with a Tensorflow backend."
   ]
  },
  {
   "cell_type": "markdown",
   "metadata": {},
   "source": [
    "# Is this a good-enough model to deliver towards production?"
   ]
  },
  {
   "cell_type": "markdown",
   "metadata": {},
   "source": [
    "This is a good model to familiarize with the process in a simplified way, but this is **absolutely not** a good model to put in production. \n",
    "\n",
    "<font color='orange'>NOTE: we have a FCNN trained on our *entire* dataset we may evaluate the performance of the NN on the same dataset: this will only give us an idea of how well we have modeled the dataset (e.g. training accuracy), but **no idea as of how well the model might perform on new, previously unseen data**. We have done this for simplicity: ideally, one should separate the entire dataset into train and test datasets for the training and evaluation of your model, or use k-flod cross-validation, etc.</font>\n",
    "\n",
    "Realistically, the model we built will fail to accurately generalize to new, previously unseen data, as the accuracy we got above is overly optimistic. We need to work more to get towards a \"good model\" (whatever that means!). **But this is exactly what it looks like in ML practice: writing \"one\" model is easy, writing a \"good model\" is hard, improving towards a \"better model\" is the hardest**."
   ]
  },
  {
   "cell_type": "markdown",
   "metadata": {},
   "source": [
    "# Summary (so far) "
   ]
  },
  {
   "cell_type": "markdown",
   "metadata": {},
   "source": [
    "What we learned:\n",
    "\n",
    "* how to develop and evaluate a NN using Keras only\n",
    "\n",
    "Specifically:\n",
    "\n",
    "* How to load data and make it available to Keras\n",
    "* How to prepare single-class classification data for modeling\n",
    "* How to design, compile, fit a Keras NN on the entire dataset at disposal\n",
    "* How to evaluate the NN model "
   ]
  }
 ],
 "metadata": {
  "kernelspec": {
   "display_name": "Python 2",
   "language": "python",
   "name": "python2"
  },
  "language_info": {
   "codemirror_mode": {
    "name": "ipython",
    "version": 2
   },
   "file_extension": ".py",
   "mimetype": "text/x-python",
   "name": "python",
   "nbconvert_exporter": "python",
   "pygments_lexer": "ipython2",
   "version": "2.7.16"
  }
 },
 "nbformat": 4,
 "nbformat_minor": 2
}
