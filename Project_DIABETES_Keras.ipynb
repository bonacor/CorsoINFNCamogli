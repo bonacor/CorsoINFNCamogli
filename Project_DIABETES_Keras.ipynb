{
 "cells": [
  {
   "cell_type": "markdown",
   "metadata": {},
   "source": [
    "# <font color='red'>Project DIABETES - with Keras</font>"
   ]
  },
  {
   "cell_type": "markdown",
   "metadata": {},
   "source": [
    "In this project tutorial you will discover **how to use Keras to develop and evaluate a NN model for a single-class classification problem**. \n",
    "\n",
    "Goals:\n",
    "\n",
    "* How to load a CSV dataset ready for use with Keras\n",
    "* How to define and compile a multilayer perceptron model for a single-class classification problem in Keras\n",
    "* How to evaluate a Keras NN model on a validation dataset (NOTE: *using Keras only*)"
   ]
  },
  {
   "cell_type": "markdown",
   "metadata": {},
   "source": [
    "# A premise: the steps\n",
    "\n",
    "In this exercise, there is not a lot of code required, so we are going to step over it slowly so that you will know how to create your own models in the future. The steps we are going to cover here are as follows:\n",
    "\n",
    "1. Load Data\n",
    "2. Define Model\n",
    "3. Compile Model\n",
    "4. Fit Model\n",
    "5. Evaluate Model\n",
    "6. Tie It All Together\n"
   ]
  },
  {
   "cell_type": "markdown",
   "metadata": {},
   "source": [
    "# Description of the input data"
   ]
  },
  {
   "cell_type": "markdown",
   "metadata": {},
   "source": [
    "The Pima Indians Onset of Diabetes dataset is a standard ML dataset, widely used worldwide as benchmark.\n",
    "\n",
    "\n",
    "### Dataset availability:\n",
    "\n",
    "Download it from my repository:\n",
    "   * [here](https://drive.google.com/open?id=12pjLYLeuZ__4SVPuz6zL9QQpPiwbVYDKz_rsn4eeHzI)\n",
    "   \n",
    "More info:\n",
    "   * [Genetic Studies of the Etiology of Type 2 Diabetes in Pima Indians](http://diabetes.diabetesjournals.org/content/53/5/1181)\n",
    "\n",
    "\n",
    "### Dataset description:\n",
    "\n",
    "\n",
    "* It describes patient medical record data for Pima Indians and whether they had an onset of diabetes within five years\n",
    "* It is a single-class, binary classification problem (onset of diabetes as 1 or not as 0)\n",
    "* Given that all attributes are numerical makes it easy to use directly with NNs that expect numerical inputs and numerical output values, so this is ideal for a first NN implementation in Keras (but be careful about needed data manipulations..).\n",
    "* The input variables that describe each patient are numerical and have varying scales. Each entry has values for 8 different attributes, defined as follows:\n",
    "   1. <font color='blue'>Number of times pregnant</font>\n",
    "   2. <font color='blue'>Plasma glucose concentration a 2 hours in an oral glucose tolerance test</font>\n",
    "   3. <font color='blue'>Diastolic blood pressure (mm Hg)</font>\n",
    "   4. <font color='blue'>Triceps skin fold thickness (mm)</font>\n",
    "   5. <font color='blue'>2-Hour serum insulin (mu U/ml)</font>\n",
    "   6. <font color='blue'>Body mass index (BMI)</font>\n",
    "   7. <font color='blue'>Diabetes pedigree function</font>\n",
    "   8. <font color='blue'>Age (years)</font>\n",
    "* The output variable is binary:    \n",
    "   * <font color='blue'>the \"class\", onset of diabetes within five years, yes or no, 1 or 0</font>\n",
    "\n",
    "### How the dataset looks like:\n",
    "\n",
    "    6,148,72,35,0,33.6,0.627,50,1\n",
    "    1,85,66,29,0,26.6,0.351,31,0\n",
    "    8,183,64,0,0,23.3,0.672,32,1\n",
    "    1,89,66,23,94,28.1,0.167,21,0\n",
    "    0,137,40,35,168,43.1,2.288,33,1\n",
    "    (...)\n",
    "\n",
    "\n",
    "### Additional input from best practitioners:\n",
    "\n",
    "The baseline accuracy if all predictions are made as no onset of diabetes is 65.1%. Top results on the dataset are in the range of 77.7% accuracy (note: using 10-fold cross-validation). Use this as target to aim for when developing your model(s)."
   ]
  },
  {
   "cell_type": "markdown",
   "metadata": {},
   "source": [
    "# Start-up"
   ]
  },
  {
   "cell_type": "markdown",
   "metadata": {},
   "source": [
    "## CHECK Import Classes and Functions\n",
    "\n",
    "Start by importing all classes and functions you will need:\n",
    "* all the functionality we require from **Keras**\n",
    "* data loading functionalities from **numpy**"
   ]
  },
  {
   "cell_type": "code",
   "execution_count": 2,
   "metadata": {},
   "outputs": [],
   "source": [
    "import numpy\n",
    "# pandas\n",
    "# --- not used on this example\n",
    "# keras\n",
    "from keras.models import Sequential\n",
    "from keras.layers import Dense\n",
    "#from keras.wrappers.scikit_learn import KerasClassifier\n",
    "#from keras.utils import np_utils\n",
    "# sklearn\n",
    "#from sklearn.model_selection import cross_val_score\n",
    "#from sklearn.model_selection import KFold\n",
    "#from sklearn.preprocessing import LabelEncoder\n",
    "#from sklearn.pipeline import Pipeline"
   ]
  },
  {
   "cell_type": "markdown",
   "metadata": {},
   "source": [
    "## Initialize random nb generator\n",
    "\n",
    "Important to ensure that the results we achieve from this model are repeatable, i.e. it ensures that the stochastic process of training a NN model can be reproduced."
   ]
  },
  {
   "cell_type": "code",
   "execution_count": 3,
   "metadata": {},
   "outputs": [],
   "source": [
    "# fix random seed for reproducibility\n",
    "seed = 7\n",
    "numpy.random.seed(seed)"
   ]
  },
  {
   "cell_type": "markdown",
   "metadata": {},
   "source": [
    "## Load The Dataset\n",
    "\n",
    "Download the dataset from the link above and place it in your current working directory, with filename\n",
    "\n",
    "    pima-indians-diabetes.data.csv\n",
    "\n",
    "Then, you can quickly inspect it from this same ipynb."
   ]
  },
  {
   "cell_type": "code",
   "execution_count": 5,
   "metadata": {},
   "outputs": [
    {
     "name": "stdout",
     "output_type": "stream",
     "text": [
      "-rw-r--r--@ 1 bonacor  staff  23279 May 12 16:59 pima-indians-diabetes.data.csv\r\n"
     ]
    }
   ],
   "source": [
    "!ls -trl pima-indians-diabetes.data.csv"
   ]
  },
  {
   "cell_type": "code",
   "execution_count": 6,
   "metadata": {},
   "outputs": [
    {
     "name": "stdout",
     "output_type": "stream",
     "text": [
      "6,148,72,35,0,33.6,0.627,50,1\r\n",
      "1,85,66,29,0,26.6,0.351,31,0\r\n",
      "8,183,64,0,0,23.3,0.672,32,1\r\n",
      "1,89,66,23,94,28.1,0.167,21,0\r\n",
      "0,137,40,35,168,43.1,2.288,33,1\r\n"
     ]
    }
   ],
   "source": [
    "!head -5 pima-indians-diabetes.data.csv"
   ]
  },
  {
   "cell_type": "markdown",
   "metadata": {},
   "source": [
    "Now, load the dataset. Easiest in this case is to load the file directly using the **numpy** function *loadtxt()*. There are 8 input attributes and 1 output (last column). While you do so, split the attributes into input variables (the matrix of **X - features**) and output variables (the array **Y - label**)."
   ]
  },
  {
   "cell_type": "code",
   "execution_count": 7,
   "metadata": {},
   "outputs": [],
   "source": [
    "# load DIABETES dataset\n",
    "dataset = numpy.loadtxt(\"pima-indians-diabetes.data.csv\", delimiter=\",\")\n",
    "X = dataset[:,0:8]   # columns from 1st to 8th into X\n",
    "Y = dataset[:,8]     # column 9th into Y"
   ]
  },
  {
   "cell_type": "markdown",
   "metadata": {},
   "source": [
    "Verify what you did."
   ]
  },
  {
   "cell_type": "code",
   "execution_count": 8,
   "metadata": {
    "scrolled": true
   },
   "outputs": [
    {
     "data": {
      "text/plain": [
       "768"
      ]
     },
     "execution_count": 8,
     "metadata": {},
     "output_type": "execute_result"
    }
   ],
   "source": [
    "len(X)"
   ]
  },
  {
   "cell_type": "code",
   "execution_count": 9,
   "metadata": {},
   "outputs": [
    {
     "data": {
      "text/plain": [
       "768"
      ]
     },
     "execution_count": 9,
     "metadata": {},
     "output_type": "execute_result"
    }
   ],
   "source": [
    "len(Y)"
   ]
  },
  {
   "cell_type": "code",
   "execution_count": 10,
   "metadata": {},
   "outputs": [
    {
     "data": {
      "text/plain": [
       "array([[  6.   , 148.   ,  72.   , ...,  33.6  ,   0.627,  50.   ],\n",
       "       [  1.   ,  85.   ,  66.   , ...,  26.6  ,   0.351,  31.   ],\n",
       "       [  8.   , 183.   ,  64.   , ...,  23.3  ,   0.672,  32.   ],\n",
       "       ...,\n",
       "       [  5.   , 121.   ,  72.   , ...,  26.2  ,   0.245,  30.   ],\n",
       "       [  1.   , 126.   ,  60.   , ...,  30.1  ,   0.349,  47.   ],\n",
       "       [  1.   ,  93.   ,  70.   , ...,  30.4  ,   0.315,  23.   ]])"
      ]
     },
     "execution_count": 10,
     "metadata": {},
     "output_type": "execute_result"
    }
   ],
   "source": [
    "X"
   ]
  },
  {
   "cell_type": "code",
   "execution_count": 11,
   "metadata": {},
   "outputs": [
    {
     "data": {
      "text/plain": [
       "array([1., 0., 1., 0., 1., 0., 1., 0., 1., 1., 0., 1., 0., 1., 1., 1., 1.,\n",
       "       1., 0., 1., 0., 0., 1., 1., 1., 1., 1., 0., 0., 0., 0., 1., 0., 0.,\n",
       "       0., 0., 0., 1., 1., 1., 0., 0., 0., 1., 0., 1., 0., 0., 1., 0., 0.,\n",
       "       0., 0., 1., 0., 0., 1., 0., 0., 0., 0., 1., 0., 0., 1., 0., 1., 0.,\n",
       "       0., 0., 1., 0., 1., 0., 0., 0., 0., 0., 1., 0., 0., 0., 0., 0., 1.,\n",
       "       0., 0., 0., 1., 0., 0., 0., 0., 1., 0., 0., 0., 0., 0., 1., 1., 0.,\n",
       "       0., 0., 0., 0., 0., 0., 0., 1., 1., 1., 0., 0., 1., 1., 1., 0., 0.,\n",
       "       0., 1., 0., 0., 0., 1., 1., 0., 0., 1., 1., 1., 1., 1., 0., 0., 0.,\n",
       "       0., 0., 0., 0., 0., 0., 0., 1., 0., 0., 0., 0., 0., 0., 0., 0., 1.,\n",
       "       0., 1., 1., 0., 0., 0., 1., 0., 0., 0., 0., 1., 1., 0., 0., 0., 0.,\n",
       "       1., 1., 0., 0., 0., 1., 0., 1., 0., 1., 0., 0., 0., 0., 0., 1., 1.,\n",
       "       1., 1., 1., 0., 0., 1., 1., 0., 1., 0., 1., 1., 1., 0., 0., 0., 0.,\n",
       "       0., 0., 1., 1., 0., 1., 0., 0., 0., 1., 1., 1., 1., 0., 1., 1., 1.,\n",
       "       1., 0., 0., 0., 0., 0., 1., 0., 0., 1., 1., 0., 0., 0., 1., 1., 1.,\n",
       "       1., 0., 0., 0., 1., 1., 0., 1., 0., 0., 0., 0., 0., 0., 0., 0., 1.,\n",
       "       1., 0., 0., 0., 1., 0., 1., 0., 0., 1., 0., 1., 0., 0., 1., 1., 0.,\n",
       "       0., 0., 0., 0., 1., 0., 0., 0., 1., 0., 0., 1., 1., 0., 0., 1., 0.,\n",
       "       0., 0., 1., 1., 1., 0., 0., 1., 0., 1., 0., 1., 1., 0., 1., 0., 0.,\n",
       "       1., 0., 1., 1., 0., 0., 1., 0., 1., 0., 0., 1., 0., 1., 0., 1., 1.,\n",
       "       1., 0., 0., 1., 0., 1., 0., 0., 0., 1., 0., 0., 0., 0., 1., 1., 1.,\n",
       "       0., 0., 0., 0., 0., 0., 0., 0., 0., 1., 0., 0., 0., 0., 0., 1., 1.,\n",
       "       1., 0., 1., 1., 0., 0., 1., 0., 0., 1., 0., 0., 1., 1., 0., 0., 0.,\n",
       "       0., 1., 0., 0., 1., 0., 0., 0., 0., 0., 0., 0., 1., 1., 1., 0., 0.,\n",
       "       1., 0., 0., 1., 0., 0., 1., 0., 1., 1., 0., 1., 0., 1., 0., 1., 0.,\n",
       "       1., 1., 0., 0., 0., 0., 1., 1., 0., 1., 0., 1., 0., 0., 0., 0., 1.,\n",
       "       1., 0., 1., 0., 1., 0., 0., 0., 0., 0., 1., 0., 0., 0., 0., 1., 0.,\n",
       "       0., 1., 1., 1., 0., 0., 1., 0., 0., 1., 0., 0., 0., 1., 0., 0., 1.,\n",
       "       0., 0., 0., 0., 0., 0., 0., 0., 0., 1., 0., 0., 0., 0., 0., 0., 0.,\n",
       "       1., 0., 0., 0., 1., 0., 0., 0., 1., 1., 0., 0., 0., 0., 0., 0., 0.,\n",
       "       1., 0., 0., 0., 0., 1., 0., 0., 0., 1., 0., 0., 0., 1., 0., 0., 0.,\n",
       "       1., 0., 0., 0., 0., 1., 1., 0., 0., 0., 0., 0., 0., 1., 0., 0., 0.,\n",
       "       0., 0., 0., 0., 0., 0., 0., 0., 1., 0., 0., 0., 1., 1., 1., 1., 0.,\n",
       "       0., 1., 1., 0., 0., 0., 0., 0., 0., 0., 0., 0., 0., 0., 0., 0., 1.,\n",
       "       1., 0., 0., 0., 0., 0., 0., 0., 1., 0., 0., 0., 0., 0., 0., 0., 1.,\n",
       "       0., 1., 1., 0., 0., 0., 1., 0., 1., 0., 1., 0., 1., 0., 1., 0., 0.,\n",
       "       1., 0., 0., 1., 0., 0., 0., 0., 1., 1., 0., 1., 0., 0., 0., 0., 1.,\n",
       "       1., 0., 1., 0., 0., 0., 1., 1., 0., 0., 0., 0., 0., 0., 0., 0., 0.,\n",
       "       0., 1., 0., 0., 0., 0., 1., 0., 0., 1., 0., 0., 0., 1., 0., 0., 0.,\n",
       "       1., 1., 1., 0., 0., 0., 0., 0., 0., 1., 0., 0., 0., 1., 0., 1., 1.,\n",
       "       1., 1., 0., 1., 1., 0., 0., 0., 0., 0., 0., 0., 1., 1., 0., 1., 0.,\n",
       "       0., 1., 0., 1., 0., 0., 0., 0., 0., 1., 0., 1., 0., 1., 0., 1., 1.,\n",
       "       0., 0., 0., 0., 1., 1., 0., 0., 0., 1., 0., 1., 1., 0., 0., 1., 0.,\n",
       "       0., 1., 1., 0., 0., 1., 0., 0., 1., 0., 0., 0., 0., 0., 0., 0., 1.,\n",
       "       1., 1., 0., 0., 0., 0., 0., 0., 1., 1., 0., 0., 1., 0., 0., 1., 0.,\n",
       "       1., 1., 1., 0., 0., 1., 1., 1., 0., 1., 0., 1., 0., 1., 0., 0., 0.,\n",
       "       0., 1., 0.])"
      ]
     },
     "execution_count": 11,
     "metadata": {},
     "output_type": "execute_result"
    }
   ],
   "source": [
    "Y"
   ]
  },
  {
   "cell_type": "markdown",
   "metadata": {},
   "source": [
    "# Define the model in Keras"
   ]
  },
  {
   "cell_type": "markdown",
   "metadata": {},
   "source": [
    "Recap of key concepts and consequent implementation steps in this example:\n",
    "   * Models in Keras are defined as a **sequence of layers**\n",
    "   * We create a **Sequential** model and **add layers** one at a time until we are happy with the NN topology.\n",
    "   * The first thing to get right is to ensure the **input layer** has the right number of inputs.\n",
    "      * here we have 8 features, so pass 8 as nb dimensions in the input layer\n",
    "   * How many **hidden layers**? Which type?\n",
    "      * This is admittedly a very hard question. There are heuristics that we can use and often the best network structure is found through a process of trial and error experimentation. Generally, you need a network large enough to capture the structure (a.k.a. complexity) of the problem if that helps at all.\n",
    "      * In this example: we will use a Fully-Connected NN structure with 1 hidden layer only\n",
    "   * Implementation: FC layers are defined using the Keras **Dense** class. We can:\n",
    "      * use it for as many hidden layer as we want (here: 3, i.e. 1 input, 2 hidden, 1 output - read below)\n",
    "      * for each, specify the number of neurons, using the first argument\n",
    "      * specify the activation function, using the activation argument (here: rectifier (**relu**) activation function on the first two layers and the **sigmoid** activation function in the output layer. \n",
    "         * *NOTE: It used to be the case that sigmoid and tanh activation functions were preferred for all layers. These days, better performance is seen using the rectifier activation function. We use a sigmoid activation function on the output layer to ensure our network output is between 0 and 1 and easy to map to either a probability of class 1 or snap to a hard classification of either class with a default threshold of 0.5*.\n",
    "         \n",
    "We can piece it all together by defining layers and adding them. We build a NN with:\n",
    "   * a first hidden layer with 12 neurons that expects 8 input variables (e.g. input dim=8)\n",
    "   * a second hidden layer with 8 neurons\n",
    "   * the output layer with 1 neuron to predict the class (onset of diabetes or not)"
   ]
  },
  {
   "cell_type": "code",
   "execution_count": 16,
   "metadata": {},
   "outputs": [],
   "source": [
    "# define model\n",
    "model = Sequential()\n",
    "model.add(Dense(12, input_dim=8, activation='relu'))\n",
    "model.add(Dense(8, activation='relu'))\n",
    "model.add(Dense(1, activation='sigmoid'))"
   ]
  },
  {
   "cell_type": "markdown",
   "metadata": {},
   "source": [
    "Check:"
   ]
  },
  {
   "cell_type": "code",
   "execution_count": 17,
   "metadata": {
    "scrolled": true
   },
   "outputs": [
    {
     "data": {
      "text/plain": [
       "<keras.models.Sequential at 0x326db4cd0>"
      ]
     },
     "execution_count": 17,
     "metadata": {},
     "output_type": "execute_result"
    }
   ],
   "source": [
    "model"
   ]
  },
  {
   "cell_type": "markdown",
   "metadata": {},
   "source": [
    "The figure below provides a (manually done) depiction of the netw\\ork structure defined above."
   ]
  },
  {
   "cell_type": "markdown",
   "metadata": {},
   "source": [
    "<img src=\"NNstructure.png\" style=\"width:200px\"/>"
   ]
  },
  {
   "cell_type": "markdown",
   "metadata": {},
   "source": [
    "The model is defined. "
   ]
  },
  {
   "cell_type": "markdown",
   "metadata": {},
   "source": [
    "# Compile the model in Keras\n",
    "\n",
    "Now that the model is defined, we need to actually create it, \"compiling\" it to be ready for efficient computation. \n",
    "\n",
    "By \"compiling\" the model we refer to the actual fact that this is done by using efficient numerical libraries under the covers (the so-called \"backend\" resources) such as those provided by Theano or **TensorFlow** (in our case, the latter). In the \"compilation phase\", the backend automatically chooses the best way to represent the network for training and making predictions running on your hardware. The outcome of this step will be a model we can finally train on our dataset.\n",
    "\n",
    "NOTE to avoid confusion: this is *not* the training phase (yet - that is next one). \n",
    "\n",
    "When compiling, we must specify some additional properties required when training the network. We must specify:\n",
    "   * the **loss function** to use to evaluate the best set of weights\n",
    "   * the **optimizer** used to search through different weights for the network\n",
    "   * any **metrics** we would like to collect and report during training\n",
    "\n",
    "In this case we will use:\n",
    "   * loss function -> logarithmic loss (which for a binary classification problem is defined in Keras as binary crossentropy)\n",
    "   * optimizer -> the efficient adam gradient descent algorithm (and efficient default)\n",
    "      * More in this paper: [Adam: A Method for Stochastic\n",
    "Optimization](http://arxiv.org/abs/1412.6980)\n",
    "   * choice of metric -> accuracy (because it is a classification problem, we will collect and report the classification accuracy as the metric)\n",
    "   \n",
    "NOTE: This is where you state that the work may happens on your CPU only, or on GPUs too."
   ]
  },
  {
   "cell_type": "code",
   "execution_count": 18,
   "metadata": {},
   "outputs": [],
   "source": [
    "# compile model\n",
    "model.compile(loss='binary_crossentropy', optimizer='adam', metrics=['accuracy'])"
   ]
  },
  {
   "cell_type": "markdown",
   "metadata": {},
   "source": [
    "The model is compiled."
   ]
  },
  {
   "cell_type": "markdown",
   "metadata": {},
   "source": [
    "# Fit the model in Keras\n",
    "\n",
    "Now that the model is defined, and compiled, we are ready to execute first the model on some data, i.e. to **fit the model** a.k.a. to perform the **training** phase on our dataset, i.e. finding the best set of weights to ultimately be able to use such model to make predictions for my problem. \n",
    "\n",
    "Concretely, now we train (fit) our model on our loaded dataset, by calling the *fit()* function on the compiled model, after providing few arguments: \n",
    "   * **nb epochs**, i.e. the training process will run for a fixed number of iterations through the dataset (set by using the *epochs* argument)\n",
    "   * **batch size**, i.e. the nb instances to be evaluated before a weight update in the network is performed (set by using the *batch size* argument).\n",
    "   \n",
    "In this case, we will run:\n",
    "   * for a small number of epochs (150)\n",
    "   * using a relatively small batch size (10)\n",
    "   \n",
    "NOTE: again, these can be chosen experimentally by trial and error.\n",
    "\n",
    "NOTE: This is the time-consuming part, where your work actually happens on your 1/more CPUs, 1/more GPUs.."
   ]
  },
  {
   "cell_type": "code",
   "execution_count": 19,
   "metadata": {},
   "outputs": [
    {
     "name": "stdout",
     "output_type": "stream",
     "text": [
      "Epoch 1/150\n",
      "768/768 [==============================] - 0s - loss: 5.2262 - acc: 0.4570     \n",
      "Epoch 2/150\n",
      "768/768 [==============================] - 0s - loss: 1.8119 - acc: 0.5573     \n",
      "Epoch 3/150\n",
      "768/768 [==============================] - 0s - loss: 1.3808 - acc: 0.5820     \n",
      "Epoch 4/150\n",
      "768/768 [==============================] - 0s - loss: 1.1756 - acc: 0.5729     \n",
      "Epoch 5/150\n",
      "768/768 [==============================] - 0s - loss: 0.9846 - acc: 0.5924     \n",
      "Epoch 6/150\n",
      "768/768 [==============================] - 0s - loss: 0.8644 - acc: 0.6237     \n",
      "Epoch 7/150\n",
      "768/768 [==============================] - 0s - loss: 0.7866 - acc: 0.6406     \n",
      "Epoch 8/150\n",
      "768/768 [==============================] - 0s - loss: 0.7669 - acc: 0.6497     \n",
      "Epoch 9/150\n",
      "768/768 [==============================] - 0s - loss: 0.7355 - acc: 0.6419     \n",
      "Epoch 10/150\n",
      "768/768 [==============================] - 0s - loss: 0.7140 - acc: 0.6628     \n",
      "Epoch 11/150\n",
      "768/768 [==============================] - 0s - loss: 0.7181 - acc: 0.6510     \n",
      "Epoch 12/150\n",
      "768/768 [==============================] - 0s - loss: 0.6777 - acc: 0.6771     \n",
      "Epoch 13/150\n",
      "768/768 [==============================] - 0s - loss: 0.7160 - acc: 0.6484     \n",
      "Epoch 14/150\n",
      "768/768 [==============================] - 0s - loss: 0.6584 - acc: 0.6628     \n",
      "Epoch 15/150\n",
      "768/768 [==============================] - 0s - loss: 0.6436 - acc: 0.6823     \n",
      "Epoch 16/150\n",
      "768/768 [==============================] - 0s - loss: 0.6293 - acc: 0.6914     \n",
      "Epoch 17/150\n",
      "768/768 [==============================] - 0s - loss: 0.6219 - acc: 0.6953     \n",
      "Epoch 18/150\n",
      "768/768 [==============================] - 0s - loss: 0.6466 - acc: 0.6810     \n",
      "Epoch 19/150\n",
      "768/768 [==============================] - 0s - loss: 0.6221 - acc: 0.6927     \n",
      "Epoch 20/150\n",
      "768/768 [==============================] - 0s - loss: 0.5975 - acc: 0.6901     \n",
      "Epoch 21/150\n",
      "768/768 [==============================] - 0s - loss: 0.6370 - acc: 0.6667     \n",
      "Epoch 22/150\n",
      "768/768 [==============================] - 0s - loss: 0.6177 - acc: 0.6901     \n",
      "Epoch 23/150\n",
      "768/768 [==============================] - 0s - loss: 0.5938 - acc: 0.6992     \n",
      "Epoch 24/150\n",
      "768/768 [==============================] - 0s - loss: 0.6393 - acc: 0.6758     \n",
      "Epoch 25/150\n",
      "768/768 [==============================] - 0s - loss: 0.6210 - acc: 0.6901     \n",
      "Epoch 26/150\n",
      "768/768 [==============================] - 0s - loss: 0.6122 - acc: 0.6927     \n",
      "Epoch 27/150\n",
      "768/768 [==============================] - 0s - loss: 0.6083 - acc: 0.6966     \n",
      "Epoch 28/150\n",
      "768/768 [==============================] - 0s - loss: 0.5826 - acc: 0.7018     \n",
      "Epoch 29/150\n",
      "768/768 [==============================] - 0s - loss: 0.6025 - acc: 0.7044     \n",
      "Epoch 30/150\n",
      "768/768 [==============================] - 0s - loss: 0.6040 - acc: 0.7031     \n",
      "Epoch 31/150\n",
      "768/768 [==============================] - 0s - loss: 0.5875 - acc: 0.7083     \n",
      "Epoch 32/150\n",
      "768/768 [==============================] - 0s - loss: 0.5658 - acc: 0.7318     \n",
      "Epoch 33/150\n",
      "768/768 [==============================] - 0s - loss: 0.5593 - acc: 0.7266     \n",
      "Epoch 34/150\n",
      "768/768 [==============================] - 0s - loss: 0.5607 - acc: 0.7305     \n",
      "Epoch 35/150\n",
      "768/768 [==============================] - 0s - loss: 0.5704 - acc: 0.7135     \n",
      "Epoch 36/150\n",
      "768/768 [==============================] - 0s - loss: 0.5730 - acc: 0.7096     \n",
      "Epoch 37/150\n",
      "768/768 [==============================] - 0s - loss: 0.5820 - acc: 0.7096     \n",
      "Epoch 38/150\n",
      "768/768 [==============================] - 0s - loss: 0.5898 - acc: 0.7148     \n",
      "Epoch 39/150\n",
      "768/768 [==============================] - 0s - loss: 0.5549 - acc: 0.7279     \n",
      "Epoch 40/150\n",
      "768/768 [==============================] - 0s - loss: 0.5542 - acc: 0.7331     \n",
      "Epoch 41/150\n",
      "768/768 [==============================] - 0s - loss: 0.5453 - acc: 0.7409     \n",
      "Epoch 42/150\n",
      "768/768 [==============================] - 0s - loss: 0.5553 - acc: 0.7188     \n",
      "Epoch 43/150\n",
      "768/768 [==============================] - 0s - loss: 0.5427 - acc: 0.7409     \n",
      "Epoch 44/150\n",
      "768/768 [==============================] - 0s - loss: 0.5583 - acc: 0.7318     \n",
      "Epoch 45/150\n",
      "768/768 [==============================] - 0s - loss: 0.5717 - acc: 0.7174     \n",
      "Epoch 46/150\n",
      "768/768 [==============================] - 0s - loss: 0.5749 - acc: 0.7161     \n",
      "Epoch 47/150\n",
      "768/768 [==============================] - 0s - loss: 0.5561 - acc: 0.7253     \n",
      "Epoch 48/150\n",
      "768/768 [==============================] - 0s - loss: 0.5965 - acc: 0.7031     \n",
      "Epoch 49/150\n",
      "768/768 [==============================] - 0s - loss: 0.5493 - acc: 0.7292     \n",
      "Epoch 50/150\n",
      "768/768 [==============================] - 0s - loss: 0.5607 - acc: 0.7214     \n",
      "Epoch 51/150\n",
      "768/768 [==============================] - 0s - loss: 0.5649 - acc: 0.7292     \n",
      "Epoch 52/150\n",
      "768/768 [==============================] - 0s - loss: 0.5444 - acc: 0.7318     \n",
      "Epoch 53/150\n",
      "768/768 [==============================] - 0s - loss: 0.5878 - acc: 0.7083     \n",
      "Epoch 54/150\n",
      "768/768 [==============================] - 0s - loss: 0.5576 - acc: 0.7331     \n",
      "Epoch 55/150\n",
      "768/768 [==============================] - 0s - loss: 0.5439 - acc: 0.7461     \n",
      "Epoch 56/150\n",
      "768/768 [==============================] - 0s - loss: 0.5414 - acc: 0.7448     \n",
      "Epoch 57/150\n",
      "768/768 [==============================] - 0s - loss: 0.5371 - acc: 0.7565     \n",
      "Epoch 58/150\n",
      "768/768 [==============================] - 0s - loss: 0.5797 - acc: 0.7148     \n",
      "Epoch 59/150\n",
      "768/768 [==============================] - 0s - loss: 0.5377 - acc: 0.7331     \n",
      "Epoch 60/150\n",
      "768/768 [==============================] - 0s - loss: 0.5623 - acc: 0.7305     \n",
      "Epoch 61/150\n",
      "768/768 [==============================] - 0s - loss: 0.5459 - acc: 0.7292     \n",
      "Epoch 62/150\n",
      "768/768 [==============================] - 0s - loss: 0.5627 - acc: 0.7279     \n",
      "Epoch 63/150\n",
      "768/768 [==============================] - 0s - loss: 0.5457 - acc: 0.7344     \n",
      "Epoch 64/150\n",
      "768/768 [==============================] - 0s - loss: 0.5626 - acc: 0.7188     \n",
      "Epoch 65/150\n",
      "768/768 [==============================] - 0s - loss: 0.5404 - acc: 0.7487     \n",
      "Epoch 66/150\n",
      "768/768 [==============================] - 0s - loss: 0.5354 - acc: 0.7435     \n",
      "Epoch 67/150\n",
      "768/768 [==============================] - 0s - loss: 0.5533 - acc: 0.7292     \n",
      "Epoch 68/150\n",
      "768/768 [==============================] - 0s - loss: 0.5578 - acc: 0.7214     \n",
      "Epoch 69/150\n",
      "768/768 [==============================] - 0s - loss: 0.5186 - acc: 0.7565     \n",
      "Epoch 70/150\n",
      "768/768 [==============================] - 0s - loss: 0.5288 - acc: 0.7552     \n",
      "Epoch 71/150\n",
      "768/768 [==============================] - 0s - loss: 0.5356 - acc: 0.7370     \n",
      "Epoch 72/150\n",
      "768/768 [==============================] - 0s - loss: 0.5431 - acc: 0.7370     \n",
      "Epoch 73/150\n",
      "768/768 [==============================] - 0s - loss: 0.5379 - acc: 0.7344     \n",
      "Epoch 74/150\n",
      "768/768 [==============================] - 0s - loss: 0.5245 - acc: 0.7526     \n",
      "Epoch 75/150\n",
      "768/768 [==============================] - 0s - loss: 0.5345 - acc: 0.7409     \n",
      "Epoch 76/150\n",
      "768/768 [==============================] - 0s - loss: 0.5340 - acc: 0.7539     \n",
      "Epoch 77/150\n",
      "768/768 [==============================] - 0s - loss: 0.5575 - acc: 0.7240     \n",
      "Epoch 78/150\n",
      "768/768 [==============================] - 0s - loss: 0.5330 - acc: 0.7513     \n",
      "Epoch 79/150\n",
      "768/768 [==============================] - 0s - loss: 0.5091 - acc: 0.7591     \n",
      "Epoch 80/150\n",
      "768/768 [==============================] - 0s - loss: 0.5355 - acc: 0.7435     \n",
      "Epoch 81/150\n",
      "768/768 [==============================] - 0s - loss: 0.5270 - acc: 0.7578     \n",
      "Epoch 82/150\n",
      "768/768 [==============================] - 0s - loss: 0.5298 - acc: 0.7448     \n",
      "Epoch 83/150\n",
      "768/768 [==============================] - 0s - loss: 0.5149 - acc: 0.7396     \n",
      "Epoch 84/150\n",
      "768/768 [==============================] - 0s - loss: 0.5098 - acc: 0.7513     \n",
      "Epoch 85/150\n",
      "768/768 [==============================] - 0s - loss: 0.5387 - acc: 0.7435     \n",
      "Epoch 86/150\n",
      "768/768 [==============================] - 0s - loss: 0.5298 - acc: 0.7461     \n",
      "Epoch 87/150\n",
      "768/768 [==============================] - 0s - loss: 0.5260 - acc: 0.7357     \n",
      "Epoch 88/150\n",
      "768/768 [==============================] - 0s - loss: 0.5134 - acc: 0.7487     \n",
      "Epoch 89/150\n"
     ]
    },
    {
     "name": "stdout",
     "output_type": "stream",
     "text": [
      "768/768 [==============================] - 0s - loss: 0.5149 - acc: 0.7565     \n",
      "Epoch 90/150\n",
      "768/768 [==============================] - 0s - loss: 0.5225 - acc: 0.7370     \n",
      "Epoch 91/150\n",
      "768/768 [==============================] - 0s - loss: 0.5328 - acc: 0.7318     \n",
      "Epoch 92/150\n",
      "768/768 [==============================] - 0s - loss: 0.5323 - acc: 0.7474     \n",
      "Epoch 93/150\n",
      "768/768 [==============================] - 0s - loss: 0.5109 - acc: 0.7526     \n",
      "Epoch 94/150\n",
      "768/768 [==============================] - 0s - loss: 0.5232 - acc: 0.7578     \n",
      "Epoch 95/150\n",
      "768/768 [==============================] - 0s - loss: 0.5084 - acc: 0.7578     \n",
      "Epoch 96/150\n",
      "768/768 [==============================] - 0s - loss: 0.5229 - acc: 0.7435     \n",
      "Epoch 97/150\n",
      "768/768 [==============================] - 0s - loss: 0.5181 - acc: 0.7461     \n",
      "Epoch 98/150\n",
      "768/768 [==============================] - 0s - loss: 0.5146 - acc: 0.7604     \n",
      "Epoch 99/150\n",
      "768/768 [==============================] - 0s - loss: 0.5288 - acc: 0.7682     \n",
      "Epoch 100/150\n",
      "768/768 [==============================] - 0s - loss: 0.5150 - acc: 0.7500     \n",
      "Epoch 101/150\n",
      "768/768 [==============================] - 0s - loss: 0.5099 - acc: 0.7682     \n",
      "Epoch 102/150\n",
      "768/768 [==============================] - 0s - loss: 0.5139 - acc: 0.7487     \n",
      "Epoch 103/150\n",
      "768/768 [==============================] - 0s - loss: 0.5031 - acc: 0.7708     - ETA: 0s - loss: 0.4944 - acc: 0.78\n",
      "Epoch 104/150\n",
      "768/768 [==============================] - 0s - loss: 0.4898 - acc: 0.7591     \n",
      "Epoch 105/150\n",
      "768/768 [==============================] - 0s - loss: 0.5070 - acc: 0.7669     \n",
      "Epoch 106/150\n",
      "768/768 [==============================] - 0s - loss: 0.5091 - acc: 0.7656     \n",
      "Epoch 107/150\n",
      "768/768 [==============================] - 0s - loss: 0.5191 - acc: 0.7370     \n",
      "Epoch 108/150\n",
      "768/768 [==============================] - 0s - loss: 0.5102 - acc: 0.7669     \n",
      "Epoch 109/150\n",
      "768/768 [==============================] - 0s - loss: 0.4938 - acc: 0.7617     \n",
      "Epoch 110/150\n",
      "768/768 [==============================] - 0s - loss: 0.5131 - acc: 0.7656     \n",
      "Epoch 111/150\n",
      "768/768 [==============================] - 0s - loss: 0.5064 - acc: 0.7409     \n",
      "Epoch 112/150\n",
      "768/768 [==============================] - 0s - loss: 0.5326 - acc: 0.7396     \n",
      "Epoch 113/150\n",
      "768/768 [==============================] - 0s - loss: 0.5047 - acc: 0.7461     \n",
      "Epoch 114/150\n",
      "768/768 [==============================] - 0s - loss: 0.5008 - acc: 0.7591     \n",
      "Epoch 115/150\n",
      "768/768 [==============================] - 0s - loss: 0.5020 - acc: 0.7487     \n",
      "Epoch 116/150\n",
      "768/768 [==============================] - 0s - loss: 0.4965 - acc: 0.7656     \n",
      "Epoch 117/150\n",
      "768/768 [==============================] - 0s - loss: 0.5014 - acc: 0.7617     \n",
      "Epoch 118/150\n",
      "768/768 [==============================] - 0s - loss: 0.4931 - acc: 0.7500     \n",
      "Epoch 119/150\n",
      "768/768 [==============================] - 0s - loss: 0.4998 - acc: 0.7656     \n",
      "Epoch 120/150\n",
      "768/768 [==============================] - 0s - loss: 0.4929 - acc: 0.7630     \n",
      "Epoch 121/150\n",
      "768/768 [==============================] - 0s - loss: 0.5043 - acc: 0.7591     \n",
      "Epoch 122/150\n",
      "768/768 [==============================] - 0s - loss: 0.4892 - acc: 0.7578     \n",
      "Epoch 123/150\n",
      "768/768 [==============================] - 0s - loss: 0.4991 - acc: 0.7708     \n",
      "Epoch 124/150\n",
      "768/768 [==============================] - 0s - loss: 0.4898 - acc: 0.7643     \n",
      "Epoch 125/150\n",
      "768/768 [==============================] - 0s - loss: 0.5032 - acc: 0.7734     \n",
      "Epoch 126/150\n",
      "768/768 [==============================] - 0s - loss: 0.4915 - acc: 0.7578     \n",
      "Epoch 127/150\n",
      "768/768 [==============================] - 0s - loss: 0.5054 - acc: 0.7708     \n",
      "Epoch 128/150\n",
      "768/768 [==============================] - 0s - loss: 0.4879 - acc: 0.7643     \n",
      "Epoch 129/150\n",
      "768/768 [==============================] - 0s - loss: 0.5118 - acc: 0.7643     \n",
      "Epoch 130/150\n",
      "768/768 [==============================] - 0s - loss: 0.4978 - acc: 0.7552     \n",
      "Epoch 131/150\n",
      "768/768 [==============================] - 0s - loss: 0.4928 - acc: 0.7604     \n",
      "Epoch 132/150\n",
      "768/768 [==============================] - 0s - loss: 0.4792 - acc: 0.7682     \n",
      "Epoch 133/150\n",
      "768/768 [==============================] - 0s - loss: 0.4883 - acc: 0.7630     \n",
      "Epoch 134/150\n",
      "768/768 [==============================] - 0s - loss: 0.4858 - acc: 0.7773     \n",
      "Epoch 135/150\n",
      "768/768 [==============================] - 0s - loss: 0.4846 - acc: 0.7695     \n",
      "Epoch 136/150\n",
      "768/768 [==============================] - 0s - loss: 0.4828 - acc: 0.7682     \n",
      "Epoch 137/150\n",
      "768/768 [==============================] - 0s - loss: 0.4816 - acc: 0.7734     \n",
      "Epoch 138/150\n",
      "768/768 [==============================] - 0s - loss: 0.5039 - acc: 0.7565     \n",
      "Epoch 139/150\n",
      "768/768 [==============================] - 0s - loss: 0.4796 - acc: 0.7630     \n",
      "Epoch 140/150\n",
      "768/768 [==============================] - 0s - loss: 0.5029 - acc: 0.7643     \n",
      "Epoch 141/150\n",
      "768/768 [==============================] - 0s - loss: 0.4800 - acc: 0.7708     \n",
      "Epoch 142/150\n",
      "768/768 [==============================] - 0s - loss: 0.4993 - acc: 0.7682     \n",
      "Epoch 143/150\n",
      "768/768 [==============================] - 0s - loss: 0.5034 - acc: 0.7643     \n",
      "Epoch 144/150\n",
      "768/768 [==============================] - 0s - loss: 0.4878 - acc: 0.7617     \n",
      "Epoch 145/150\n",
      "768/768 [==============================] - 0s - loss: 0.5218 - acc: 0.7461     \n",
      "Epoch 146/150\n",
      "768/768 [==============================] - 0s - loss: 0.4882 - acc: 0.7656     \n",
      "Epoch 147/150\n",
      "768/768 [==============================] - 0s - loss: 0.5016 - acc: 0.7539     \n",
      "Epoch 148/150\n",
      "768/768 [==============================] - 0s - loss: 0.4727 - acc: 0.7578     \n",
      "Epoch 149/150\n",
      "768/768 [==============================] - 0s - loss: 0.4780 - acc: 0.7773     \n",
      "Epoch 150/150\n",
      "768/768 [==============================] - 0s - loss: 0.4832 - acc: 0.7747     \n"
     ]
    },
    {
     "data": {
      "text/plain": [
       "<keras.callbacks.History at 0x327287a10>"
      ]
     },
     "execution_count": 19,
     "metadata": {},
     "output_type": "execute_result"
    }
   ],
   "source": [
    "# fit the model\n",
    "model.fit(X, Y, epochs=150, batch_size=10)"
   ]
  },
  {
   "cell_type": "markdown",
   "metadata": {},
   "source": [
    "Running the cell above, you should see a message for each of the epochs, printing the loss (roughly going down) and accuracy (roughly going up) for each epoch. It takes about 15 seconds to execute on my workstation running on a Macbook Air CPU with a Tensorflow backend."
   ]
  },
  {
   "cell_type": "markdown",
   "metadata": {},
   "source": [
    "# Evaluate the model in Keras\n",
    "\n",
    "Now the model has been defined, compiled and trained. \n",
    "\n",
    "NOTE: we have a FCNN trained on our *entire* dataset we may evaluate the performance of the NN on the same dataset: this will only give us an idea of how well we have modeled the dataset (e.g. training accuracy), but **no idea as of how well the model might perform on new, previously unseen data**. We have done this for simplicity: ideally, one should separate the entire dataset into train and test datasets for the training and evaluation of your model, or use k-flod cross-validation, etc.\n",
    "\n",
    "In this oversimplified example, we can evaluate our model on our training dataset using the *evaluation()* function and pass it the same input and output used to train the model. This will generate a prediction for each input and output pair and collect scores, including the average loss and any metrics we have configured, such as accuracy."
   ]
  },
  {
   "cell_type": "code",
   "execution_count": 24,
   "metadata": {
    "scrolled": true
   },
   "outputs": [
    {
     "name": "stdout",
     "output_type": "stream",
     "text": [
      " 32/768 [>.............................] - ETA: 0s\n",
      "acc: 77.60%\n"
     ]
    }
   ],
   "source": [
    "# evaluate the model\n",
    "scores = model.evaluate(X, Y)\n",
    "print(\"\\n%s: %.2f%%\" % (model.metrics_names[1], scores[1]*100))"
   ]
  },
  {
   "cell_type": "markdown",
   "metadata": {},
   "source": [
    "Running the cell above, you should the final evaluation of the trained model on the training dataset. It takes about 2 seconds to execute on my workstation running on a Macbook Air CPU with a Tensorflow backend."
   ]
  },
  {
   "cell_type": "markdown",
   "metadata": {},
   "source": [
    "# Summary \n",
    "\n",
    "What we learned:\n",
    "\n",
    "* how to develop and evaluate a NN using Keras only\n",
    "\n",
    "Specifically:\n",
    "\n",
    "* How to load data and make it available to Keras\n",
    "* How to prepare single-class classification data for modeling\n",
    "* How to design, compile, fit a Keras NN on the entire dataset at disposal\n",
    "* How to evaluate the NN model "
   ]
  },
  {
   "cell_type": "code",
   "execution_count": null,
   "metadata": {},
   "outputs": [],
   "source": []
  },
  {
   "cell_type": "code",
   "execution_count": null,
   "metadata": {},
   "outputs": [],
   "source": []
  },
  {
   "cell_type": "code",
   "execution_count": null,
   "metadata": {},
   "outputs": [],
   "source": []
  },
  {
   "cell_type": "code",
   "execution_count": null,
   "metadata": {},
   "outputs": [],
   "source": []
  },
  {
   "cell_type": "code",
   "execution_count": null,
   "metadata": {},
   "outputs": [],
   "source": []
  }
 ],
 "metadata": {
  "kernelspec": {
   "display_name": "Python 2",
   "language": "python",
   "name": "python2"
  },
  "language_info": {
   "codemirror_mode": {
    "name": "ipython",
    "version": 2
   },
   "file_extension": ".py",
   "mimetype": "text/x-python",
   "name": "python",
   "nbconvert_exporter": "python",
   "pygments_lexer": "ipython2",
   "version": "2.7.16"
  }
 },
 "nbformat": 4,
 "nbformat_minor": 2
}
